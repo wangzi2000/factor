{
 "cells": [
  {
   "cell_type": "code",
   "execution_count": 124,
   "metadata": {},
   "outputs": [
    {
     "name": "stdout",
     "output_type": "stream",
     "text": [
      "Overwriting train.py\n"
     ]
    }
   ],
   "source": [
    "%%writefile train.py\n",
    "\n",
    "import pandas as pd\n",
    "import numpy as np"
   ]
  },
  {
   "cell_type": "code",
   "execution_count": 125,
   "metadata": {},
   "outputs": [
    {
     "data": {
      "text/plain": [
       "'\\n指标构造—python code\\nexit_it  = 行业平均固定资产/市场平均固定资产 + 行业平均投资/市场总投资 + 行业平均价格/市场总体价格 + 行业平均资产负债率/市场总负债率 + 行业平均利润率/市场总利润率\\ni为行业,t为年份\\n'"
      ]
     },
     "execution_count": 125,
     "metadata": {},
     "output_type": "execute_result"
    }
   ],
   "source": [
    "'''\n",
    "指标构造—python code\n",
    "exit_it  = 行业平均固定资产/市场平均固定资产 + 行业平均投资/市场总投资 + 行业平均价格/市场总体价格 + 行业平均资产负债率/市场总负债率 + 行业平均利润率/市场总利润率\n",
    "i为行业,t为年份\n",
    "'''"
   ]
  },
  {
   "cell_type": "code",
   "execution_count": 126,
   "metadata": {},
   "outputs": [],
   "source": [
    "df = pd.read_stata('/Users/wangjunjie/Desktop/大二下/大二下课程/产业分析/小组/project2/data/data_98_07.dta')\n",
    "\n",
    "id_i = pd.to_numeric(df['id1_indus'], errors='coerce')\n",
    "state_open = pd.to_numeric(df['state'], errors='coerce')\n",
    "\n",
    "df['id_indus_1'] = id_i\n",
    "df['state_open'] = state_open"
   ]
  },
  {
   "cell_type": "code",
   "execution_count": 127,
   "metadata": {},
   "outputs": [],
   "source": [
    "df[\"state_cal\"] = df['state_open'].apply(lambda x: 1 if x == 1.0 else 0)\n",
    "exit_rate = df.groupby(['year', 'id_indus_1'])[\"state_cal\"].mean()\n",
    "exit_rate = pd.DataFrame(1-exit_rate)\n",
    "exit_rate['exit_rate'] = exit_rate['state_cal']\n",
    "exit_rate = exit_rate.drop('state_cal', axis = 1)"
   ]
  },
  {
   "cell_type": "code",
   "execution_count": 128,
   "metadata": {},
   "outputs": [],
   "source": [
    "#计算entry_rate\n",
    "df['year_working'] = df['year'] - df['year_open']\n",
    "df[\"entry_rate\"] = df['year_working'].apply(lambda x: 1 if x <= 2.0 else 0)\n",
    "entry_rate = pd.DataFrame(df.groupby(['year', 'id_indus_1'])[\"entry_rate\"].mean())"
   ]
  },
  {
   "cell_type": "code",
   "execution_count": 129,
   "metadata": {},
   "outputs": [],
   "source": [
    "df_data = pd.merge(entry_rate, exit_rate, on = ['year','id_indus_1'])\n",
    "#df_data.to_excel('industry.xlsx')"
   ]
  },
  {
   "cell_type": "code",
   "execution_count": 130,
   "metadata": {},
   "outputs": [],
   "source": [
    "df_data['industry_id'] = df_data.index.get_level_values(1)\n",
    "df_data['year_id'] = df_data.index.get_level_values(0)\n",
    "\n",
    "#invest of particular industry\n",
    "mean_invest = pd.DataFrame(df.groupby(['year', 'id_indus_1'])['log_invest'].mean())\n",
    "mean_invest['mean_invest'] = mean_invest['log_invest']\n",
    "mean_invest = mean_invest.drop('log_invest',axis = 1)\n",
    "df_data = pd.merge(df_data, mean_invest, on = ['year','id_indus_1'])\n",
    "\n",
    "# invest of all industry\n",
    "df_invest_all = pd.DataFrame(df.groupby('year')['log_invest'].mean())\n",
    "df_data = pd.merge(df_data, df_invest_all, on = ['year'], right_index = True)\n",
    "df_data['invest_mean_all'] = df_data['log_invest']\n",
    "df_data = df_data.drop('log_invest',axis = 1)"
   ]
  },
  {
   "cell_type": "code",
   "execution_count": 131,
   "metadata": {},
   "outputs": [],
   "source": [
    "#invest of particular industry\n",
    "mean_fix_invest = pd.DataFrame(df.groupby(['year', 'id_indus_1'])['fix_assets'].mean())\n",
    "mean_fix_invest['mean_fix_assets'] = mean_fix_invest['fix_assets']\n",
    "mean_fix_invest = mean_fix_invest.drop('fix_assets',axis = 1)\n",
    "df_data = pd.merge(df_data, mean_fix_invest, on = ['year','id_indus_1'])\n",
    "\n",
    "# invest of all industry\n",
    "df_fix_invest_all = pd.DataFrame(df.groupby('year')['fix_assets'].mean())\n",
    "\n",
    "df_fix_invest_all['fix_invest_mean_all'] = df_fix_invest_all['fix_assets']\n",
    "df_fix_invest_all = df_fix_invest_all.drop('fix_assets',axis = 1)\n",
    "\n",
    "df_data = pd.merge(df_data, df_fix_invest_all, on = ['year'], right_index = True)\n",
    "# show df_data"
   ]
  },
  {
   "cell_type": "code",
   "execution_count": 132,
   "metadata": {},
   "outputs": [],
   "source": [
    "#invest of particular industry\n",
    "mean_price = pd.DataFrame(df.groupby(['year', 'id_indus_1'])['acc_receivable'].mean())\n",
    "mean_price['acc_receivable_indus'] = mean_price['acc_receivable']\n",
    "mean_price = mean_price.drop('acc_receivable',axis = 1)\n",
    "\n",
    "df_data = pd.merge(df_data, mean_price, on = ['year','id_indus_1'])"
   ]
  },
  {
   "cell_type": "code",
   "execution_count": 133,
   "metadata": {},
   "outputs": [],
   "source": [
    "# invest of all industry\n",
    "df_price_all = pd.DataFrame(df.groupby('year')['acc_receivable'].mean())\n",
    "df_price_all['acc_receivable_indus_all'] = df_price_all['acc_receivable']\n",
    "df_price_all = df_price_all.drop('acc_receivable',axis = 1)\n",
    "\n",
    "df_data = pd.merge(df_data, df_price_all, on = ['year'], right_index = True)"
   ]
  },
  {
   "cell_type": "code",
   "execution_count": 134,
   "metadata": {},
   "outputs": [],
   "source": [
    "#asset_liability有很多值不存在（分母为0）\n",
    "#df['asset_lia'] = df['assets'] / df['liability']\n",
    "\n",
    "mean_al = pd.DataFrame(df.groupby(['year', 'id_indus_1'])['assets'].mean())\n",
    "mean_al['ass_indus'] = mean_al['assets']\n",
    "mean_al = mean_al.drop('assets',axis = 1)\n",
    "\n",
    "df_data = pd.merge(df_data, mean_al, on = ['year','id_indus_1'], right_index = True)\n",
    "\n",
    "\n",
    "df_al = pd.DataFrame(df.groupby('year')['assets'].mean())\n",
    "df_al['ass_all'] = df_al['assets']\n",
    "df_al = df_al.drop('assets',axis = 1)\n",
    "\n",
    "df_data = pd.merge(df_data, df_al, on = ['year'], right_index = True)"
   ]
  },
  {
   "cell_type": "code",
   "execution_count": 135,
   "metadata": {},
   "outputs": [],
   "source": [
    "mean_income = pd.DataFrame(df.groupby(['year', 'id_indus_1'])['income_main'].mean())\n",
    "mean_income['income_indus'] = mean_income['income_main']\n",
    "mean_income = mean_income.drop('income_main',axis = 1)\n",
    "\n",
    "df_data = pd.merge(df_data, mean_income, on = ['year','id_indus_1'], right_index = True)\n",
    "\n",
    "df_income_all = pd.DataFrame(df.groupby('year')['income_main'].mean())\n",
    "df_income_all['income_indus_all'] = df_income_all['income_main']\n",
    "df_income_all = df_income_all.drop('income_main',axis = 1)\n",
    "\n",
    "df_data = pd.merge(df_data, df_income_all, on = ['year'], right_index = True)\n",
    "\n",
    "mean_cost = pd.DataFrame(df.groupby(['year', 'id_indus_1'])['cost_main'].mean())\n",
    "mean_cost['cost_indus'] = mean_cost['cost_main']\n",
    "mean_cost = mean_cost.drop('cost_main',axis = 1)\n",
    "\n",
    "df_data = pd.merge(df_data, mean_cost, on = ['year','id_indus_1'], right_index = True)\n",
    "\n",
    "df_cost = pd.DataFrame(df.groupby('year')['cost_main'].mean())\n",
    "df_cost['cost_main_al'] = df_cost['cost_main']\n",
    "df_cost = df_cost.drop('cost_main',axis = 1)\n",
    "\n",
    "df_data = pd.merge(df_data, df_cost, on = ['year'], right_index = True)\n"
   ]
  },
  {
   "cell_type": "code",
   "execution_count": 136,
   "metadata": {},
   "outputs": [],
   "source": [
    "mean_profit = pd.DataFrame(df.groupby(['year', 'id_indus_1'])['material'].mean())\n",
    "mean_profit['material_indus'] = mean_profit['material']\n",
    "mean_profit = mean_profit.drop('material',axis = 1)\n",
    "\n",
    "df_data = pd.merge(df_data, mean_profit, on = ['year','id_indus_1'], right_index = True)\n",
    "\n",
    "df_profit_all = pd.DataFrame(df.groupby('year')['material'].mean())\n",
    "df_profit_all['material_indus_all'] = df_profit_all['material']\n",
    "df_profit_all = df_profit_all.drop('material',axis = 1)\n",
    "\n",
    "df_data = pd.merge(df_data, df_profit_all, on = ['year'], right_index = True)\n",
    "df_data.to_excel('industry_data_processing.xlsx')"
   ]
  },
  {
   "cell_type": "code",
   "execution_count": 137,
   "metadata": {},
   "outputs": [
    {
     "data": {
      "text/plain": [
       "'\\ndf[‘profit_rate’] = df[‘profit’] / df[‘cost’]\\n行业平均利润率 = df.groupby(year, id_indus)[‘profit_rate’].mean()\\n市场总利润率 = df.groupby(year)[‘profit_rate’].mean()\\n'"
      ]
     },
     "execution_count": 137,
     "metadata": {},
     "output_type": "execute_result"
    }
   ],
   "source": [
    "'''\n",
    "df[‘profit_rate’] = df[‘profit’] / df[‘cost’]\n",
    "行业平均利润率 = df.groupby(year, id_indus)[‘profit_rate’].mean()\n",
    "市场总利润率 = df.groupby(year)[‘profit_rate’].mean()\n",
    "'''"
   ]
  },
  {
   "cell_type": "code",
   "execution_count": 138,
   "metadata": {},
   "outputs": [],
   "source": [
    "df_wall = pd.read_excel('/Users/wangjunjie/Desktop/大二下/大二下课程/产业分析/小组/project2/data/industry_data_processing.xlsx')\n",
    "df_wall['cap_sale'] = df_wall['mean_fix_assets'] / df_wall['income_indus']"
   ]
  },
  {
   "cell_type": "code",
   "execution_count": 139,
   "metadata": {},
   "outputs": [],
   "source": [
    "min_scale = pd.DataFrame(df.groupby(['year','id_indus_1'])['assets'].median())\n",
    "min_scale['year_id'] = min_scale.index.get_level_values(0)\n",
    "min_scale['industry_id'] = min_scale.index.get_level_values(1)\n",
    "min_scale_1 = min_scale\n",
    "min_scale_1['assets_med'] = min_scale['assets']\n",
    "\n",
    "min_scale_1 = min_scale_1.drop('assets',axis = 1)"
   ]
  },
  {
   "cell_type": "code",
   "execution_count": 140,
   "metadata": {},
   "outputs": [],
   "source": [
    "df_cal_wall = pd.merge(df_wall, min_scale_1, on = ['year_id','industry_id'])"
   ]
  },
  {
   "cell_type": "code",
   "execution_count": 141,
   "metadata": {},
   "outputs": [],
   "source": [
    "df_cal_wall['entry_sunk_cost'] = df_cal_wall['cap_sale']*df_cal_wall['assets_med']\n",
    "df_cal_wall.to_excel('industry_data_6_10.xlsx')"
   ]
  }
 ],
 "metadata": {
  "kernelspec": {
   "display_name": "Python 3",
   "language": "python",
   "name": "python3"
  },
  "language_info": {
   "codemirror_mode": {
    "name": "ipython",
    "version": 3
   },
   "file_extension": ".py",
   "mimetype": "text/x-python",
   "name": "python",
   "nbconvert_exporter": "python",
   "pygments_lexer": "ipython3",
   "version": "3.7.3"
  }
 },
 "nbformat": 4,
 "nbformat_minor": 4
}
